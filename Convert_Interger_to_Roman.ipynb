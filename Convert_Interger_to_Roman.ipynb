{
 "cells": [
  {
   "cell_type": "markdown",
   "metadata": {},
   "source": [
    "Write a program that converts Roman numerals into ordinary numbers. Here are the\n",
    "conversions: M=1000, D=500, C=100, L=50, X=10, V=5 I=1. Don’t forget about things like IV\n",
    "being 4 and XL being 40.\n",
    "\n",
    "Integer numbers and their Roman equivalent:\n",
    "\n",
    "1000 : 'M'\n",
    "\n",
    "900 : 'CM'\n",
    "\n",
    "500 : 'D'\n",
    "\n",
    "400 : 'CD'\n",
    "\n",
    "100 : 'C'\n",
    "\n",
    "90 : 'XC'\n",
    "\n",
    "50 : 'L'\n",
    "\n",
    "40 : 'XL'\n",
    "\n",
    "10 : 'X'\n",
    "\n",
    "9 : 'IX'\n",
    "\n",
    "5 : 'V'\n",
    "\n",
    "4: 'IV'\n",
    "\n",
    "1: 'I'\n",
    "\n",
    "SAMPLE INPUT:\n",
    "\n",
    "Enter number to Convert : 417\n",
    "\n",
    "SAMPLE OUTPUT:\n",
    "\n",
    "    CDXVII"
   ]
  },
  {
   "cell_type": "code",
   "execution_count": 4,
   "metadata": {},
   "outputs": [
    {
     "name": "stdout",
     "output_type": "stream",
     "text": [
      "I\n",
      "MMMM\n"
     ]
    }
   ],
   "source": [
    "class py_solution:\n",
    "    def int_to_Roman(self, num):\n",
    "        val = [\n",
    "            1000, 900, 500, 400,\n",
    "            100, 90, 50, 40,\n",
    "            10, 9, 5, 4,\n",
    "            1\n",
    "            ]\n",
    "        syb = [\n",
    "            \"M\", \"CM\", \"D\", \"CD\",\n",
    "            \"C\", \"XC\", \"L\", \"XL\",\n",
    "            \"X\", \"IX\", \"V\", \"IV\",\n",
    "            \"I\"\n",
    "            ]\n",
    "        roman_num = ''\n",
    "        i = 0\n",
    "        while  num > 0:\n",
    "            for _ in range(num // val[i]):\n",
    "                roman_num += syb[i]\n",
    "                num -= val[i]\n",
    "            i += 1\n",
    "        return roman_num\n",
    "\n",
    "\n",
    "print(py_solution().int_to_Roman(1))\n",
    "print(py_solution().int_to_Roman(4000))"
   ]
  }
 ],
 "metadata": {
  "kernelspec": {
   "display_name": "Python 3",
   "language": "python",
   "name": "python3"
  },
  "language_info": {
   "codemirror_mode": {
    "name": "ipython",
    "version": 3
   },
   "file_extension": ".py",
   "mimetype": "text/x-python",
   "name": "python",
   "nbconvert_exporter": "python",
   "pygments_lexer": "ipython3",
   "version": "3.7.3"
  }
 },
 "nbformat": 4,
 "nbformat_minor": 2
}
