{
 "cells": [
  {
   "cell_type": "markdown",
   "metadata": {},
   "source": [
    "Suppose you are playing a rummy cards.\n",
    "\n",
    "Create a variable which takes a random number(1 to 10) as a input.\n",
    "\n",
    "Create a loop for the following below Conversation\n",
    "\n",
    "Step1. system:\"guess the correct card number \"\n",
    "\n",
    "step2. User: Random numbers (1 to 10)\n",
    "\n",
    "step3. system: \"Would you like to guess again? Yes or No? \"\n",
    "\n",
    "step4. User: (Yes or no) if you say yes\n",
    "\n",
    "step5. system: \"What's you're next guess? \"\n",
    "\n",
    "step6. User: random number(1 to 10)\n",
    "\n",
    "step7. system: \"Just one more try! Enter your last guess, \"\n",
    "\n",
    "step8. User:random number(1 to 10)\n",
    "\n",
    "step9. system: \"That's too bad! Thanks for playing.\"\n",
    "\n",
    "Note: If user guessing is correct it will show \"Great job\" and Step number 4 if your guess is \"NO\" it will dispaly \"That's too bad! Thanks for playing.\""
   ]
  },
  {
   "cell_type": "code",
   "execution_count": 11,
   "metadata": {},
   "outputs": [
    {
     "name": "stdout",
     "output_type": "stream",
     "text": [
      "Guess the correct card number2\n",
      "Would you like to guess again?no\n",
      "That's too bad! Thanks for playing\n"
     ]
    }
   ],
   "source": [
    "import random\n",
    "import sys\n",
    "card_number=random.randint(1,10)\n",
    "\n",
    "\n",
    "def check(random):\n",
    "    if(random==card_number):\n",
    "        print('Great Job')\n",
    "        sys.exit()\n",
    "    \n",
    "while(True):\n",
    "    random=int(input(\"Guess the correct card number\"));\n",
    "    check(random)\n",
    "    ch=(input(\"Would you like to guess again?\"))\n",
    "    if(ch.lower()=='yes'):\n",
    "        random=(input(\"Whats your next guess?\"));\n",
    "        check(random)\n",
    "    else:\n",
    "        print(\"That's too bad! Thanks for playing\")\n",
    "        break\n",
    "    random=int(input(\"Just one more try.. Enter your last guess?\"));\n",
    "    check(random)\n",
    "    print(\"That's too bad! Thanks for playing\")\n",
    "    break\n",
    "    \n",
    "    "
   ]
  }
 ],
 "metadata": {
  "kernelspec": {
   "display_name": "Python 3",
   "language": "python",
   "name": "python3"
  },
  "language_info": {
   "codemirror_mode": {
    "name": "ipython",
    "version": 3
   },
   "file_extension": ".py",
   "mimetype": "text/x-python",
   "name": "python",
   "nbconvert_exporter": "python",
   "pygments_lexer": "ipython3",
   "version": "3.7.3"
  }
 },
 "nbformat": 4,
 "nbformat_minor": 2
}
