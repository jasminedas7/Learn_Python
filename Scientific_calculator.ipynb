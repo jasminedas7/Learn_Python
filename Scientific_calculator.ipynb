{
 "cells": [
  {
   "cell_type": "markdown",
   "metadata": {},
   "source": [
    "Create a scientific calculator using python. The calculator should give a menu to the user\n",
    "asking the type of mathematical operation to be performed (1. Arithmetic 2. Trignometric 3.\n",
    "Logarithmic). According to the choice of the user, operations are performed on the numbers\n",
    "entered. "
   ]
  },
  {
   "cell_type": "code",
   "execution_count": 1,
   "metadata": {},
   "outputs": [
    {
     "name": "stdout",
     "output_type": "stream",
     "text": [
      "Let's play a word guessing game pen\n",
      "Let's play a word guessing game pop\n",
      "Great Guess!\n",
      "You got it!\n",
      "The word was  pop . Thanks for playing!\n",
      "Exiting\n"
     ]
    }
   ],
   "source": [
    "import math\n",
    "print (\"Are you having an error message? \\nPlease read instructions in the code for help \\n*************************\")\n",
    "firstNumber = float(input())\n",
    "op = input().lower()\n",
    "secondNumber = float(input())\n",
    "\n",
    "if op == \"+\":\n",
    "    print (firstNumber, \"+\", secondNumber, \"=\", firstNumber + secondNumber )\n",
    "elif op == \"-\": \n",
    "    print (firstNumber, \"-\", secondNumber, \"=\", firstNumber - secondNumber )\n",
    "elif op == \"*\":\n",
    "    print (firstNumber, \"*\", secondNumber, \"=\", firstNumber * secondNumber )\n",
    "elif op == \"/\":\n",
    "    print (firstNumber, \"/\", secondNumber, \"=\", firstNumber / secondNumber )\n",
    "elif op == \"^\":\n",
    "    print (firstNumber, \"^\", secondNumber, \"=\", firstNumber ** secondNumber )\n",
    "elif op == \"r\":\n",
    "    print (firstNumber, \"root\", secondNumber, \"=\", secondNumber ** (1 / firstNumber) )\n",
    "elif op == \"%\":\n",
    "    print (firstNumber, \"%\", secondNumber, \"=\", firstNumber % secondNumber )\n",
    "#factorial\n",
    "elif op == \"!\":\n",
    "    theNumber = firstNumber = secondNumber \n",
    "    secondNumber = 1\n",
    "    while firstNumber > 1:\n",
    "        secondNumber *= firstNumber \n",
    "        firstNumber = firstNumber - 1  \n",
    "    print (\"n!(\", theNumber, \")=\", secondNumber )\n",
    "elif op == \"sin\":\n",
    "    print (\"sin(\", secondNumber, \")=\", math.sin(secondNumber ))\n",
    "elif op == \"cos\":\n",
    "    print (\"cos(\", secondNumber, \")=\", math.cos\n",
    "    (secondNumber ))\n",
    "elif op == \"tan\":\n",
    "    print (\"tan(\", secondNumber, \")=\", math.tan(secondNumber ))\n",
    "elif op == \"pie\" or op == \"pi\":\n",
    "    print (\"Pie =\", math.pi)\n",
    "elif op == \"e\":\n",
    "    print = (\"E =\", math.e)\n",
    "elif op == \"ln\":\n",
    "    print (\"ln(\", secondNumber , \")= \", math.log(secondNumber))\n",
    "else:\n",
    "    print (\"incorrect operator\") "
   ]
  }
 ],
 "metadata": {
  "kernelspec": {
   "display_name": "Python 3",
   "language": "python",
   "name": "python3"
  },
  "language_info": {
   "codemirror_mode": {
    "name": "ipython",
    "version": 3
   },
   "file_extension": ".py",
   "mimetype": "text/x-python",
   "name": "python",
   "nbconvert_exporter": "python",
   "pygments_lexer": "ipython3",
   "version": "3.7.3"
  }
 },
 "nbformat": 4,
 "nbformat_minor": 2
}
