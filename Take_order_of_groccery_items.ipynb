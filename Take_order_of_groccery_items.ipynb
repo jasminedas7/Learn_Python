{
 "cells": [
  {
   "cell_type": "markdown",
   "metadata": {},
   "source": [
    "<span style=\"font-family: Arial; font-weight:bold;font-size:1.5em;color:#5d067d;\">Write a python program that takes order for grocery items available in the store\n",
    "    \n",
    "   1. Create a dictionary with the name \"items_in_store\" = soap:5,brush:10,paste:7,chips:10(1 mark)\n",
    "   2. Create a empty dictionary with name shopping_list (1 mark)\n",
    "   3. Create a loop that takes order for the grocery items by checking availability in the store and take the order(3 marks)\n",
    "   4. Note that if the items are out off the stock it will display \"out of stock\"(1 mark)"
   ]
  },
  {
   "cell_type": "code",
   "execution_count": 10,
   "metadata": {},
   "outputs": [
    {
     "name": "stdout",
     "output_type": "stream",
     "text": [
      "Enter amount of soap needed4\n",
      "Enter amount of brush needed4\n",
      "Enter amount of paste needed4\n",
      "Enter amount of chips needed4\n",
      "Order  1\n",
      "Soaps- 4\n",
      "Brush- 4\n",
      "Paste- 4\n",
      "Chips- 4\n",
      "Availability  {'soap': 1, 'brush': 1, 'paste': 3, 'chips': 6}\n",
      "Do you want to take another order1\n",
      "Enter amount of soap needed2\n",
      "out of stock\n"
     ]
    }
   ],
   "source": [
    "items_in_store={'soap':5,'brush':5,'paste':7,'chips':10}\n",
    "shopping_list={}\n",
    "\n",
    "i=1\n",
    "while(True):\n",
    "    soap=int(input(\"Enter amount of soap needed\"))\n",
    "    if(soap<=items_in_store['soap']):\n",
    "        items_in_store['soap']-=soap\n",
    "    else:\n",
    "        print('out of stock')\n",
    "        break;\n",
    "    \n",
    "    \n",
    "    brush=int(input(\"Enter amount of brush needed\"))\n",
    "    if(brush<=items_in_store['brush']):\n",
    "        items_in_store['brush']-=brush\n",
    "    else:\n",
    "        print('out of stock')\n",
    "        break;\n",
    "    \n",
    "    paste=int(input(\"Enter amount of paste needed\"))\n",
    "    if(paste<=items_in_store['paste']):\n",
    "        items_in_store['paste']-=paste\n",
    "    else:\n",
    "        print('out of stock')\n",
    "        break;\n",
    "    \n",
    "    \n",
    "    \n",
    "    chips=int(input(\"Enter amount of chips needed\"))\n",
    "    if(chips<=items_in_store['chips']):\n",
    "        items_in_store['chips']-=chips\n",
    "    else:\n",
    "        print('out of stock')\n",
    "        break;\n",
    "    \n",
    "    print('Order ',i)\n",
    "    print(\"Soaps-\",soap)\n",
    "    print(\"Brush-\",brush)\n",
    "    print(\"Paste-\",paste)\n",
    "    print(\"Chips-\",chips)\n",
    "    \n",
    "    print(\"Availability \",items_in_store)\n",
    "    i+=1\n",
    "    \n",
    "    order=input(\"Do you want to take another order\")\n",
    "    if(order=='N' or order=='n'):\n",
    "        break;\n",
    "    "
   ]
  }
 ],
 "metadata": {
  "kernelspec": {
   "display_name": "Python 3",
   "language": "python",
   "name": "python3"
  },
  "language_info": {
   "codemirror_mode": {
    "name": "ipython",
    "version": 3
   },
   "file_extension": ".py",
   "mimetype": "text/x-python",
   "name": "python",
   "nbconvert_exporter": "python",
   "pygments_lexer": "ipython3",
   "version": "3.7.3"
  }
 },
 "nbformat": 4,
 "nbformat_minor": 2
}
