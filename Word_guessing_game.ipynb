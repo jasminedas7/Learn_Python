{
 "cells": [
  {
   "cell_type": "markdown",
   "metadata": {},
   "source": [
    "You are a teacher and playing with \"word guessing game\" with students. You choose six words relating to recent conversational themes and write sets of clues to help students. Student get 3 chances to guess the three letters word given below\n",
    "Create a word set=[\"cat\", \"hat\", \"pop\", \"sea\", \"row\", \"cup\"] like and take user input display like \"Let's play a word guessing game . The word has 3 letters in it. You get 3 guesses. Guess a letter \" if you guess correct it will display(6 marks)\n",
    "\n",
    " Great Guess!\n",
    " You got it!\n",
    " The word was cat. Thanks for playing!\n",
    " Exiting\n",
    "If your guess wrongly your code will ask three times to guess the word as shown in the below example(4 marks)\n",
    "\n",
    " Sorry, try again. was\n",
    " Sorry, try again. the\n",
    " Sorry, try again. are\n",
    " Exiting"
   ]
  },
  {
   "cell_type": "code",
   "execution_count": 1,
   "metadata": {},
   "outputs": [
    {
     "name": "stdout",
     "output_type": "stream",
     "text": [
      "Let's play a word guessing game pen\n",
      "Let's play a word guessing game pop\n",
      "Great Guess!\n",
      "You got it!\n",
      "The word was  pop . Thanks for playing!\n",
      "Exiting\n"
     ]
    }
   ],
   "source": [
    "word_set=[\"cat\", \"hat\", \"pop\", \"sea\", \"row\", \"cup\"]\n",
    "word=input(\"Let's play a word guessing game \")\n",
    "for i in range (3):\n",
    "    if word in word_set:\n",
    "        print(\"Great Guess!\")\n",
    "        print(\"You got it!\")\n",
    "        print(\"The word was \", word , \". Thanks for playing!\")\n",
    "        print('Exiting')\n",
    "        break\n",
    "    else:\n",
    "        word=input(\"Let's play a word guessing game \")"
   ]
  }
 ],
 "metadata": {
  "kernelspec": {
   "display_name": "Python 3",
   "language": "python",
   "name": "python3"
  },
  "language_info": {
   "codemirror_mode": {
    "name": "ipython",
    "version": 3
   },
   "file_extension": ".py",
   "mimetype": "text/x-python",
   "name": "python",
   "nbconvert_exporter": "python",
   "pygments_lexer": "ipython3",
   "version": "3.7.3"
  }
 },
 "nbformat": 4,
 "nbformat_minor": 2
}
